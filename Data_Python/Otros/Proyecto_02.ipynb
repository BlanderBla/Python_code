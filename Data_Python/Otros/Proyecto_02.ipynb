{
 "cells": [
  {
   "cell_type": "code",
   "execution_count": 1,
   "id": "9099f4a4-33bb-4691-9d6a-cc49909ff76a",
   "metadata": {},
   "outputs": [],
   "source": [
    "import os\n",
    "import json"
   ]
  },
  {
   "cell_type": "code",
   "execution_count": 2,
   "id": "ff48ccf8-39f6-4e22-b2df-34efc067f629",
   "metadata": {},
   "outputs": [],
   "source": [
    "lista_archivos = os.listdir(\"C:/Users/HP-Laptop/Desktop/PARCIAL3/PROYECTO/PELIS\")\n",
    "conteos_autores = {}\n",
    "conteos_temas = {}\n",
    "with open(\"PELIS.json\") as archivo_metadata:\n",
    "    metadata = json.load(archivo_metadata)\n",
    "    for entrada in metadata:\n",
    "        #Solo tomamos en cuenta aquellos datos que estén en la muestra\n",
    "        if entrada in lista_archivos:\n",
    "            for tema in metadata[entrada][\"class\"]:\n",
    "                if tema in conteos_temas:\n",
    "                    conteos_temas[tema] += 1\n",
    "                else:\n",
    "                    conteos_temas[tema] = 1"
   ]
  },
  {
   "cell_type": "code",
   "execution_count": 3,
   "id": "581e74ed-a4bc-47cc-806e-b85351d321a0",
   "metadata": {},
   "outputs": [],
   "source": [
    "#mayores_autores = sorted(conteos_autores, key=conteos_autores.get,reverse=True)[:10]"
   ]
  },
  {
   "cell_type": "code",
   "execution_count": 4,
   "id": "87afd6d6-316e-4d2b-806d-e24e95e90a72",
   "metadata": {},
   "outputs": [],
   "source": [
    "mayores_temas = sorted(conteos_temas, key=conteos_temas.get,reverse=True)[:20]"
   ]
  },
  {
   "cell_type": "code",
   "execution_count": 5,
   "id": "573fa504-c4ab-46bb-81f7-02afd84de381",
   "metadata": {},
   "outputs": [],
   "source": [
    "etiquetas_autor = {}\n",
    "etiquetas_tema = {}\n",
    "with open(\"PELIS.json\") as archivo_metadata:\n",
    "    metadata = json.load(archivo_metadata)\n",
    "    for entrada in metadata:\n",
    "        #Solo tomamos en cuenta aquellos datos que estén en la muestra\n",
    "        if entrada in lista_archivos:\n",
    "            # Etiquetamos tema\n",
    "            for tema in mayores_temas:\n",
    "                if tema in metadata[entrada][\"class\"]:\n",
    "                    etiquetas_tema[entrada] = tema"
   ]
  },
  {
   "cell_type": "code",
   "execution_count": 6,
   "id": "770f28d0-c834-4aad-805a-d9d69449a442",
   "metadata": {},
   "outputs": [],
   "source": [
    "#with open(\"etiquetas_autor.json\",\"w\") as archivo_autores:\n",
    "#    json.dump(etiquetas_autor,archivo_autores)"
   ]
  },
  {
   "cell_type": "code",
   "execution_count": 7,
   "id": "6ca38665-06ea-469f-aa92-ce0d5183ddf3",
   "metadata": {},
   "outputs": [],
   "source": [
    "with open(\"etiquetas_tema.json\",\"w\") as archivo_temas:\n",
    "    json.dump(etiquetas_tema,archivo_temas)"
   ]
  },
  {
   "cell_type": "code",
   "execution_count": 58,
   "id": "16e3fc1f",
   "metadata": {},
   "outputs": [
    {
     "name": "stdout",
     "output_type": "stream",
     "text": [
      "['A Nightmare on Elm street 3.txt', 'A Nightmare on Elm street 4.txt', 'A Nightmare On Elm Street.txt', 'Annabelle Comes Home.txt', 'Annabelle Creations.txt', 'Candyman.txt', 'Contagion.txt', 'Dracula.txt', 'exmachina.txt', 'Fragmentado.txt', 'Friday The 13th 3.txt', 'Friday The 13th 5.txt', 'Halloween 11.txt', 'Halloween 4.txt', 'halloween 5.txt', 'Halloween Kills.txt', 'Halloween.txt', 'Huye.txt', 'It Capitulo 2.txt', 'it.txt', 'Jeepers Creepers 2.txt', 'Jeepers Creepers 3.txt', 'Jigsaw.txt', 'La Forma del Agua.txt', 'Lat den ratte komma in.txt', 'Let Me In.txt', 'Paranormal Activity 3.txt', 'Paranormal Activity 4.txt', 'Paranormal Activity.txt', 'Parasite esp.txt', 'ring two.txt', 'Ring.txt', 'Rings.txt', 'Saw 2.txt', 'Saw 7.txt', 'Silencio.txt', 'The Conjuring 2.txt', 'The Conjuring.txt', 'The Devils Advocate.txt', 'The Nun.txt', 'The Ring.txt', 'Viernes 13 1980.txt', 'Viernes 13 2009.txt', 'Zombieland.txt']\n"
     ]
    }
   ],
   "source": [
    "import os\n",
    "def fn():       # 1.Get file names from directory\n",
    "    file_list=os.listdir(r\"C:/Users/XDIADG/Desktop/Semestre 10/IA2/Películas entrena/Terror\")\n",
    "    print (file_list)\n",
    "\n",
    " #2.To rename files\n",
    "fn()"
   ]
  },
  {
   "cell_type": "code",
   "execution_count": null,
   "id": "02034491",
   "metadata": {},
   "outputs": [],
   "source": [
    "with open(\"etiquetas_autor.json\",\"r\") as archivo_autores:\n",
    "    etiquetas_autor = json.load(archivo_autores)"
   ]
  }
 ],
 "metadata": {
  "kernelspec": {
   "display_name": "Python 3 (ipykernel)",
   "language": "python",
   "name": "python3"
  },
  "language_info": {
   "codemirror_mode": {
    "name": "ipython",
    "version": 3
   },
   "file_extension": ".py",
   "mimetype": "text/x-python",
   "name": "python",
   "nbconvert_exporter": "python",
   "pygments_lexer": "ipython3",
   "version": "3.9.7"
  }
 },
 "nbformat": 4,
 "nbformat_minor": 5
}
