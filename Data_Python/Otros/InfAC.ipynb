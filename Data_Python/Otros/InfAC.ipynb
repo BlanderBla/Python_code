{
 "cells": [
  {
   "cell_type": "markdown",
   "id": "ed9e3df9",
   "metadata": {},
   "source": [
    "# ANÁLISIS DE DATOS\n",
    "Objetivo: Obtención de los datos de la inflación, la inflación solo podemos obtenerla de manera mensual, por lo que no aplica para el analisis dentro de los rangos diarios y semanales"
   ]
  },
  {
   "cell_type": "code",
   "execution_count": 1,
   "id": "b7b4a892",
   "metadata": {},
   "outputs": [],
   "source": [
    "# OBTENER LOS DATOS REFERENTE A LA INFLACIÓN (DATOS MENSUALES)\n",
    "# LIBRERIAS\n",
    "import pandas as pd\n",
    "import requests\n",
    "from bs4 import BeautifulSoup"
   ]
  },
  {
   "cell_type": "code",
   "execution_count": 2,
   "id": "083174ae",
   "metadata": {},
   "outputs": [],
   "source": [
    "# VARIABLES\n",
    "URL_EUA = \"https://www.rateinflation.com/inflation-rate/usa-historical-inflation-rate/\"\n",
    "URL_CAN = \"https://www.rateinflation.com/inflation-rate/canada-historical-inflation-rate/\"\n",
    "URL_BRA = \"https://www.rateinflation.com/inflation-rate/brazil-historical-inflation-rate/\"\n",
    "URL_EUR = \"https://www.rateinflation.com/inflation-rate/euro-area-historical-inflation-rate/\"\n",
    "URL_UK  = \"https://www.rateinflation.com/inflation-rate/uk-historical-inflation-rate/\"\n",
    "URL_ALE = \"https://www.rateinflation.com/inflation-rate/germany-historical-inflation-rate/\"\n",
    "URL_FRA = \"https://www.rateinflation.com/inflation-rate/france-historical-inflation-rate/\"\n",
    "URL_RUS = \"https://www.rateinflation.com/inflation-rate/russia-historical-inflation-rate/\"\n",
    "URL_JAP = \"https://www.rateinflation.com/inflation-rate/japan-historical-inflation-rate/\"\n"
   ]
  },
  {
   "cell_type": "code",
   "execution_count": 3,
   "id": "af59e53f",
   "metadata": {},
   "outputs": [],
   "source": [
    "# OBTENCIÓN DE LOS DATOS (DATOS MENSUALES)\n",
    "def dfInflaM(x):\n",
    "    r = requests.get(x)\n",
    "    soup = BeautifulSoup(r.content,'html.parser')\n",
    "    rows = soup.find('table',attrs={'class':'css-8rh80p eyyd7td0'}).find('tbody').find_all('tr')\n",
    "    year = []\n",
    "    jan = []\n",
    "    feb = []\n",
    "    mar = []\n",
    "    apr = []\n",
    "    may = []\n",
    "    jun = []\n",
    "    jul = []\n",
    "    aug = []\n",
    "    sep = []\n",
    "    octo = []\n",
    "    nov = []\n",
    "    dec = []\n",
    "    annual = []\n",
    "    for row in rows:\n",
    "        year.append(row.find_all('td')[0].get_text())\n",
    "        jan.append(row.find_all('td')[1].get_text())\n",
    "        feb.append(row.find_all('td')[2].get_text())\n",
    "        mar.append(row.find_all('td')[3].get_text())\n",
    "        apr.append(row.find_all('td')[4].get_text())\n",
    "        may.append(row.find_all('td')[5].get_text())\n",
    "        jun.append(row.find_all('td')[6].get_text())\n",
    "        jul.append(row.find_all('td')[7].get_text())\n",
    "        aug.append(row.find_all('td')[8].get_text())\n",
    "        sep.append(row.find_all('td')[9].get_text())\n",
    "        octo.append(row.find_all('td')[10].get_text())\n",
    "        nov.append(row.find_all('td')[11].get_text())\n",
    "        dec.append(row.find_all('td')[12].get_text())\n",
    "        annual.append(row.find_all('td')[13].get_text())\n",
    "    df = pd.DataFrame(\n",
    "    {\"Year\":year,\n",
    "    \"January\":jan,\n",
    "    \"February\":feb,\n",
    "    \"March\":mar,\n",
    "    \"April\":apr,\n",
    "    \"May\":may,\n",
    "    \"June\":jun,\n",
    "    \"Jule\":jul,\n",
    "    \"August\":aug,\n",
    "    \"September\":sep,\n",
    "    \"October\":octo,\n",
    "    \"November\":nov,\n",
    "    \"December\":dec,\n",
    "    \"Annual\":annual})\n",
    "    return df"
   ]
  },
  {
   "cell_type": "code",
   "execution_count": 4,
   "id": "091eff49",
   "metadata": {},
   "outputs": [],
   "source": [
    "iEUA = dfInflaM(URL_EUA) \n",
    "iCAN = dfInflaM(URL_CAN)\n",
    "iBRA = dfInflaM(URL_BRA)\n",
    "iEUR = dfInflaM(URL_EUR)\n",
    "iUK  = dfInflaM(URL_UK)\n",
    "iALE = dfInflaM(URL_ALE)\n",
    "iFRA = dfInflaM(URL_FRA)\n",
    "iRUS = dfInflaM(URL_RUS)\n",
    "iJAP = dfInflaM(URL_JAP)"
   ]
  },
  {
   "cell_type": "code",
   "execution_count": 5,
   "id": "9d7f54ab",
   "metadata": {},
   "outputs": [],
   "source": [
    "# OBTENCIÓN DE LOS DATOS (DATOS ANUALES)\n",
    "def dfInflaA(x):\n",
    "    r = requests.get(x)\n",
    "    soup = BeautifulSoup(r.content,'html.parser')\n",
    "    rows = soup.find('table',attrs={'class':'css-8rh80p eyyd7td0'}).find('tbody').find_all('tr')\n",
    "    year = []\n",
    "    annual = []\n",
    "    for row in rows:\n",
    "        year.append(row.find_all('td')[0].get_text())\n",
    "        annual.append(row.find_all('td')[13].get_text())\n",
    "    df = pd.DataFrame(\n",
    "    {\"Year\":year,\n",
    "    \"Annual\":annual})\n",
    "    return df"
   ]
  },
  {
   "cell_type": "code",
   "execution_count": 6,
   "id": "560e6185",
   "metadata": {},
   "outputs": [],
   "source": [
    "iEUAa = dfInflaA(URL_EUA) \n",
    "iCANa = dfInflaA(URL_CAN)\n",
    "iBRAa = dfInflaA(URL_BRA)\n",
    "iEURa = dfInflaA(URL_EUR)\n",
    "iUKa  = dfInflaA(URL_UK)\n",
    "iALEa = dfInflaA(URL_ALE)\n",
    "iFRAa = dfInflaA(URL_FRA)\n",
    "iRUSa = dfInflaA(URL_RUS)\n",
    "iJAPa = dfInflaA(URL_JAP)"
   ]
  }
 ],
 "metadata": {
  "kernelspec": {
   "display_name": "Python 3 (ipykernel)",
   "language": "python",
   "name": "python3"
  },
  "language_info": {
   "codemirror_mode": {
    "name": "ipython",
    "version": 3
   },
   "file_extension": ".py",
   "mimetype": "text/x-python",
   "name": "python",
   "nbconvert_exporter": "python",
   "pygments_lexer": "ipython3",
   "version": "3.9.2"
  }
 },
 "nbformat": 4,
 "nbformat_minor": 5
}
