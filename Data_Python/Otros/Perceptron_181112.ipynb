{
 "cells": [
  {
   "cell_type": "code",
   "execution_count": 119,
   "id": "77c7f4df",
   "metadata": {},
   "outputs": [],
   "source": [
    "# LIBRERIAS\n",
    "import random\n",
    "import os"
   ]
  },
  {
   "cell_type": "code",
   "execution_count": 120,
   "id": "f75edd3f",
   "metadata": {},
   "outputs": [],
   "source": [
    "# VARIABLES\n",
    "pIni = [[], [], [], [], []]\n",
    "t = []\n",
    "a = 0\n",
    "error = 0"
   ]
  },
  {
   "cell_type": "code",
   "execution_count": 121,
   "id": "9818e3d0",
   "metadata": {},
   "outputs": [],
   "source": [
    "# DATOS MUESTRA\n",
    "pIni[0].append(0) ; pIni[1].append(0) ;  pIni[2].append(1) ; pIni[3].append(1) ; pIni[4].append(0.5)  \n",
    "pIni[0].append(0) ; pIni[1].append(1) ;  pIni[2].append(0) ; pIni[3].append(1) ; pIni[4].append(0.5)  \n",
    "pIni[0].append(0) ; pIni[1].append(1) ;  pIni[2].append(1) ; pIni[3].append(1) ; pIni[4].append(0) "
   ]
  },
  {
   "cell_type": "code",
   "execution_count": 122,
   "id": "5a2a83cc",
   "metadata": {},
   "outputs": [],
   "source": [
    "#Se guardan los valores de t para decidir si se usará hardlim o hardlims\n",
    "for i in range(4):\n",
    "    t.append(pIni[i][2])"
   ]
  },
  {
   "cell_type": "code",
   "execution_count": 123,
   "id": "82064fbd",
   "metadata": {},
   "outputs": [],
   "source": [
    "# Se inicializan los pesos y el bias iniciales\n",
    "w11 = random.randrange(0, 1)\n",
    "w12 = random.randrange(0, 1)\n",
    "bias = random.randrange(0, 1)"
   ]
  },
  {
   "cell_type": "code",
   "execution_count": 124,
   "id": "05ddbb7b",
   "metadata": {},
   "outputs": [],
   "source": [
    "# FUNCIONES\n",
    "# Hardlim\n",
    "def hardlim(suma):\n",
    "    if suma < 0:\n",
    "        a = 0\n",
    "    elif suma >= 0:\n",
    "        a = 1\n",
    "    return a\n",
    "\n",
    "# Hardlims\n",
    "def hardlims(suma):\n",
    "    if suma < 0:\n",
    "        a = -1\n",
    "    elif suma >= 0:\n",
    "        a = 1\n",
    "    return a"
   ]
  },
  {
   "cell_type": "code",
   "execution_count": 125,
   "id": "f275516a",
   "metadata": {},
   "outputs": [],
   "source": [
    "# OPERACION\n",
    "# Paso 1 (Multiplicar los pesos por X, Y)\n",
    "for bus in range(500):\n",
    "    for i in range(5): \n",
    "        xw11 = w11*pIni[i][0]             \n",
    "        yw12 = w12*pIni[i][1]         \n",
    "# Paso 2 (Sumatoria de X, Y, bias)\n",
    "        suma = xw11+yw12+bias          # n = suma\n",
    "# Paso 3 (Se decide si se usará hardlim o hardlims)\n",
    "        if(0 in t):                     \n",
    "            a = hardlim(suma)\n",
    "        else:\n",
    "            a = hardlims(suma)\n",
    "# Error = t - a\n",
    "        error = pIni[i][2] - a          \n",
    "# Pesos y bias nuevos\n",
    "        w11 =w11+(error*pIni[i][0])     \n",
    "        w12 =w12+(error*pIni[i][1]) \n",
    "        bias=bias+error\n",
    "\n",
    "        if i == 5:\n",
    "            i = 0\n",
    "\n",
    "        a == t[0]"
   ]
  },
  {
   "cell_type": "code",
   "execution_count": null,
   "id": "e2cbebc7",
   "metadata": {},
   "outputs": [],
   "source": []
  }
 ],
 "metadata": {
  "kernelspec": {
   "display_name": "Python 3 (ipykernel)",
   "language": "python",
   "name": "python3"
  },
  "language_info": {
   "codemirror_mode": {
    "name": "ipython",
    "version": 3
   },
   "file_extension": ".py",
   "mimetype": "text/x-python",
   "name": "python",
   "nbconvert_exporter": "python",
   "pygments_lexer": "ipython3",
   "version": "3.9.2"
  }
 },
 "nbformat": 4,
 "nbformat_minor": 5
}
