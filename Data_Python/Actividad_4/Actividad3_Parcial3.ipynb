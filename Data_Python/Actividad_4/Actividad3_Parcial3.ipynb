{
 "cells": [
  {
   "cell_type": "markdown",
   "id": "4cf33b90",
   "metadata": {},
   "source": [
    "# Universidad Politécnica de San Luis Potosí\n",
    "## Brayan Adrián Galván Flores\n",
    "### Kohonen en Python\n"
   ]
  },
  {
   "cell_type": "code",
   "execution_count": 7,
   "id": "632a11d0",
   "metadata": {},
   "outputs": [],
   "source": [
    "# LIBRERIAS\n",
    "import pandas as pd\n",
    "import numpy as np\n",
    "# Instalamos som con pip install sklearn-som\n",
    "from sklearn_som.som import SOM"
   ]
  },
  {
   "cell_type": "code",
   "execution_count": 8,
   "id": "28559673",
   "metadata": {},
   "outputs": [
    {
     "data": {
      "text/html": [
       "<div>\n",
       "<style scoped>\n",
       "    .dataframe tbody tr th:only-of-type {\n",
       "        vertical-align: middle;\n",
       "    }\n",
       "\n",
       "    .dataframe tbody tr th {\n",
       "        vertical-align: top;\n",
       "    }\n",
       "\n",
       "    .dataframe thead th {\n",
       "        text-align: right;\n",
       "    }\n",
       "</style>\n",
       "<table border=\"1\" class=\"dataframe\">\n",
       "  <thead>\n",
       "    <tr style=\"text-align: right;\">\n",
       "      <th></th>\n",
       "      <th>0.5</th>\n",
       "      <th>0.1</th>\n",
       "    </tr>\n",
       "  </thead>\n",
       "  <tbody>\n",
       "    <tr>\n",
       "      <th>0</th>\n",
       "      <td>0.7</td>\n",
       "      <td>0.4</td>\n",
       "    </tr>\n",
       "    <tr>\n",
       "      <th>1</th>\n",
       "      <td>0.7</td>\n",
       "      <td>0.9</td>\n",
       "    </tr>\n",
       "    <tr>\n",
       "      <th>2</th>\n",
       "      <td>0.8</td>\n",
       "      <td>0.3</td>\n",
       "    </tr>\n",
       "    <tr>\n",
       "      <th>3</th>\n",
       "      <td>0.0</td>\n",
       "      <td>0.7</td>\n",
       "    </tr>\n",
       "    <tr>\n",
       "      <th>4</th>\n",
       "      <td>0.3</td>\n",
       "      <td>0.6</td>\n",
       "    </tr>\n",
       "    <tr>\n",
       "      <th>5</th>\n",
       "      <td>0.8</td>\n",
       "      <td>1.0</td>\n",
       "    </tr>\n",
       "    <tr>\n",
       "      <th>6</th>\n",
       "      <td>0.3</td>\n",
       "      <td>0.2</td>\n",
       "    </tr>\n",
       "    <tr>\n",
       "      <th>7</th>\n",
       "      <td>0.9</td>\n",
       "      <td>0.7</td>\n",
       "    </tr>\n",
       "    <tr>\n",
       "      <th>8</th>\n",
       "      <td>0.7</td>\n",
       "      <td>0.6</td>\n",
       "    </tr>\n",
       "    <tr>\n",
       "      <th>9</th>\n",
       "      <td>0.4</td>\n",
       "      <td>0.7</td>\n",
       "    </tr>\n",
       "    <tr>\n",
       "      <th>10</th>\n",
       "      <td>0.1</td>\n",
       "      <td>0.4</td>\n",
       "    </tr>\n",
       "    <tr>\n",
       "      <th>11</th>\n",
       "      <td>0.5</td>\n",
       "      <td>0.4</td>\n",
       "    </tr>\n",
       "    <tr>\n",
       "      <th>12</th>\n",
       "      <td>0.9</td>\n",
       "      <td>0.1</td>\n",
       "    </tr>\n",
       "    <tr>\n",
       "      <th>13</th>\n",
       "      <td>0.1</td>\n",
       "      <td>0.2</td>\n",
       "    </tr>\n",
       "    <tr>\n",
       "      <th>14</th>\n",
       "      <td>0.3</td>\n",
       "      <td>1.0</td>\n",
       "    </tr>\n",
       "    <tr>\n",
       "      <th>15</th>\n",
       "      <td>0.2</td>\n",
       "      <td>0.8</td>\n",
       "    </tr>\n",
       "    <tr>\n",
       "      <th>16</th>\n",
       "      <td>0.7</td>\n",
       "      <td>0.1</td>\n",
       "    </tr>\n",
       "    <tr>\n",
       "      <th>17</th>\n",
       "      <td>0.5</td>\n",
       "      <td>0.9</td>\n",
       "    </tr>\n",
       "    <tr>\n",
       "      <th>18</th>\n",
       "      <td>0.3</td>\n",
       "      <td>0.4</td>\n",
       "    </tr>\n",
       "  </tbody>\n",
       "</table>\n",
       "</div>"
      ],
      "text/plain": [
       "    0.5  0.1\n",
       "0   0.7  0.4\n",
       "1   0.7  0.9\n",
       "2   0.8  0.3\n",
       "3   0.0  0.7\n",
       "4   0.3  0.6\n",
       "5   0.8  1.0\n",
       "6   0.3  0.2\n",
       "7   0.9  0.7\n",
       "8   0.7  0.6\n",
       "9   0.4  0.7\n",
       "10  0.1  0.4\n",
       "11  0.5  0.4\n",
       "12  0.9  0.1\n",
       "13  0.1  0.2\n",
       "14  0.3  1.0\n",
       "15  0.2  0.8\n",
       "16  0.7  0.1\n",
       "17  0.5  0.9\n",
       "18  0.3  0.4"
      ]
     },
     "execution_count": 8,
     "metadata": {},
     "output_type": "execute_result"
    }
   ],
   "source": [
    "# DATOS\n",
    "datos = pd.read_csv(\"Datos_Kohonen.csv\")\n",
    "datos"
   ]
  },
  {
   "cell_type": "code",
   "execution_count": 9,
   "id": "d97eb014",
   "metadata": {},
   "outputs": [
    {
     "data": {
      "text/plain": [
       "array([[0.7, 0.4],\n",
       "       [0.7, 0.9],\n",
       "       [0.8, 0.3],\n",
       "       [0. , 0.7],\n",
       "       [0.3, 0.6],\n",
       "       [0.8, 1. ],\n",
       "       [0.3, 0.2],\n",
       "       [0.9, 0.7],\n",
       "       [0.7, 0.6],\n",
       "       [0.4, 0.7],\n",
       "       [0.1, 0.4],\n",
       "       [0.5, 0.4],\n",
       "       [0.9, 0.1],\n",
       "       [0.1, 0.2],\n",
       "       [0.3, 1. ],\n",
       "       [0.2, 0.8],\n",
       "       [0.7, 0.1],\n",
       "       [0.5, 0.9],\n",
       "       [0.3, 0.4]])"
      ]
     },
     "execution_count": 9,
     "metadata": {},
     "output_type": "execute_result"
    }
   ],
   "source": [
    "# ARREGLO DE NUMPY\n",
    "datosR = datos.to_numpy()\n",
    "datosR"
   ]
  },
  {
   "cell_type": "code",
   "execution_count": 10,
   "id": "e3d66500",
   "metadata": {},
   "outputs": [],
   "source": [
    "algSOM = SOM(m=4, n=1, dim=2)"
   ]
  },
  {
   "cell_type": "code",
   "execution_count": 11,
   "id": "dd9f229e",
   "metadata": {},
   "outputs": [],
   "source": [
    "# AJUSTE\n",
    "algSOM.fit(datosR)"
   ]
  },
  {
   "cell_type": "code",
   "execution_count": 12,
   "id": "969910bc",
   "metadata": {},
   "outputs": [
    {
     "data": {
      "text/plain": [
       "array([0, 1, 0, 1, 1, 1, 2, 1, 1, 1, 0, 0, 2, 2, 1, 1, 2, 1, 0],\n",
       "      dtype=int64)"
      ]
     },
     "execution_count": 12,
     "metadata": {},
     "output_type": "execute_result"
    }
   ],
   "source": [
    "# PREDICCIÓN\n",
    "prediccion = algSOM.predict(datosR)\n",
    "prediccion"
   ]
  },
  {
   "cell_type": "code",
   "execution_count": null,
   "id": "4f1f3a4e",
   "metadata": {},
   "outputs": [],
   "source": []
  }
 ],
 "metadata": {
  "kernelspec": {
   "display_name": "Python 3 (ipykernel)",
   "language": "python",
   "name": "python3"
  },
  "language_info": {
   "codemirror_mode": {
    "name": "ipython",
    "version": 3
   },
   "file_extension": ".py",
   "mimetype": "text/x-python",
   "name": "python",
   "nbconvert_exporter": "python",
   "pygments_lexer": "ipython3",
   "version": "3.9.2"
  }
 },
 "nbformat": 4,
 "nbformat_minor": 5
}
