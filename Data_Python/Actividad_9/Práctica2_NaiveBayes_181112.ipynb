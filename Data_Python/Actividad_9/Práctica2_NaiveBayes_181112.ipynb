{
 "cells": [
  {
   "cell_type": "markdown",
   "id": "ee0370f8",
   "metadata": {},
   "source": [
    "# Universidad Politécnica de San Luis Potosi\n",
    "Mineria de datos - Práctica 2 Naive Bayes\n",
    "\n",
    "Brayan Adrian Galván Flores - 181112"
   ]
  },
  {
   "cell_type": "code",
   "execution_count": 74,
   "id": "25606dd6",
   "metadata": {},
   "outputs": [],
   "source": [
    "### PRIMERA PARTE\n",
    "# a. Aplica todos los pasos del proceso de minería de datos\n",
    "#    1.\tObtención de los datos  Ya contamos con los datos recopilados, en este caso el profesor nos proporcionó dos archivos que nos servirán para el análisis de los datos, los cuales son: mushrooms y sin_clasificar.\n",
    "#    2.\tConocimiento de los datos \n",
    "#        i.\tVariable de clasificación/pronostico [Deoendiente] : class\n",
    "#        ii.\tVariables independientes : Todas las demás variables con excepción de class\n",
    "#    3.\tLimpieza y depuración de datos  Con los datos faltantes se pueden realizar 3 acciones, ya sea borrarlo, buscar el dato o realizar una estimación del dato, en este caso optamos por la eliminación de la fila donde falta dicho dato.\n",
    "#    4.\tObtención de medidas estadísticas\n"
   ]
  },
  {
   "cell_type": "code",
   "execution_count": 75,
   "id": "bdb0b5b8",
   "metadata": {},
   "outputs": [],
   "source": [
    "# Importamos librerias a utilizar\n",
    "import pandas as pd\n",
    "import numpy as np\n",
    "import seaborn as sb\n",
    "\n",
    "from sklearn.metrics import confusion_matrix          # Permite visualizar el rendimiento de los modelos de aprendizaje automatico de clasificación\n",
    "from sklearn.metrics import classification_report     # Mide la calidad de las predicciones a partir de un algoritmo de clasificación\n",
    "from sklearn.naive_bayes import CategoricalNB         # Representa una variable categorica"
   ]
  },
  {
   "cell_type": "code",
   "execution_count": 76,
   "id": "0724ed50",
   "metadata": {},
   "outputs": [],
   "source": [
    "# OBTENCION DE  LOS DATOS\n",
    "# Ya contamos con los datos recopilados, en este caso el profesor nos proporcionó dos archivos que nos servirán \n",
    "# para el análisis de los datos, los cuales son: mushrooms y sin_clasificar.\n",
    "\n",
    "# ----- ----- ----- ----- ----- ----- ----- ----- ----- -----\n",
    "\n",
    "# CONOCIMIENTO DE LOS DATOS\n",
    "# Leemos el archivo mushrooms.csv\n",
    "# NOTA: PARA ESTE PUNTO LOS DATOS YA HAN SIDO NORMALIZADOS Y PUESTOS EN EL ARCHIVO PARA MANIPULARLOS DE UNA MEJOR MANERA\n",
    "aMushrooms = pd.read_csv(\"mushrooms.csv\", header=0) \n",
    "# Archivo sin clasificar.csv\n",
    "aSinClasificar = pd.read_csv(\"sin_clasificar.csv\", header=0)"
   ]
  },
  {
   "cell_type": "code",
   "execution_count": 77,
   "id": "861221be",
   "metadata": {},
   "outputs": [],
   "source": [
    "# LIMPIEZA Y DEPURACION DE LOS ARCHIVOS\n",
    "# Eliminamos los registros vacios o NaN del registro\n",
    "aMushrooms = aMushrooms.dropna()"
   ]
  },
  {
   "cell_type": "code",
   "execution_count": 78,
   "id": "6f3333f2",
   "metadata": {},
   "outputs": [],
   "source": [
    "### SEGUNDA PARTE"
   ]
  },
  {
   "cell_type": "code",
   "execution_count": 79,
   "id": "16f70496",
   "metadata": {},
   "outputs": [],
   "source": [
    "# Con train_test_split -> Crea una partición.\n",
    "from sklearn.model_selection import train_test_split\n",
    "\n",
    "#Partición al 30% [Prueba] y una semilla de aleatorizacion en el numero 42\n",
    "x_train, x_test = train_test_split(aMushrooms, test_size=0.3, random_state=42)"
   ]
  },
  {
   "cell_type": "code",
   "execution_count": 80,
   "id": "a0fc53a5",
   "metadata": {},
   "outputs": [],
   "source": [
    "# Asignamos a la variable y_train la columna class del conjunto de entrenamiento\n",
    "y_train = x_train['class']"
   ]
  },
  {
   "cell_type": "code",
   "execution_count": 81,
   "id": "cc56b37a",
   "metadata": {},
   "outputs": [],
   "source": [
    "# En el conjunto de entrenamiento quita la variable class\n",
    "del(x_train['class'])"
   ]
  },
  {
   "cell_type": "code",
   "execution_count": 82,
   "id": "e3e62176",
   "metadata": {},
   "outputs": [],
   "source": [
    "# Asignamos a la variable y_test la columna class del conjunto de prueba\n",
    "y_test = x_test['class']"
   ]
  },
  {
   "cell_type": "code",
   "execution_count": 83,
   "id": "b4191797",
   "metadata": {},
   "outputs": [],
   "source": [
    "# En el conjunto de prueba quita la variable class.\n",
    "del(x_test['class'])"
   ]
  },
  {
   "cell_type": "code",
   "execution_count": 84,
   "id": "1332b1ee",
   "metadata": {},
   "outputs": [
    {
     "data": {
      "text/plain": [
       "CategoricalNB()"
      ]
     },
     "execution_count": 84,
     "metadata": {},
     "output_type": "execute_result"
    }
   ],
   "source": [
    "# Creamos una instancia para CategoricalNB\n",
    "ct = CategoricalNB()\n",
    "\n",
    "# Ejecutamos la función fit con el conjunto de entrenamiento X e Y\n",
    "ct.fit(x_train, y_train)"
   ]
  },
  {
   "cell_type": "code",
   "execution_count": 85,
   "id": "5c383c8f",
   "metadata": {},
   "outputs": [
    {
     "data": {
      "text/plain": [
       "array([0, 0, 0, ..., 1, 0, 0], dtype=int64)"
      ]
     },
     "execution_count": 85,
     "metadata": {},
     "output_type": "execute_result"
    }
   ],
   "source": [
    "# Realizamos la predicción con el conjunto de prueba\n",
    "pronostico = ct.predict(x_test)\n",
    "pronostico"
   ]
  },
  {
   "cell_type": "code",
   "execution_count": 86,
   "id": "32ce8bc1",
   "metadata": {},
   "outputs": [
    {
     "data": {
      "text/plain": [
       "0.9581108829568789"
      ]
     },
     "execution_count": 86,
     "metadata": {},
     "output_type": "execute_result"
    }
   ],
   "source": [
    "# Calculamos la eficiencia del modelo\n",
    "ct.score(x_test,y_test)"
   ]
  },
  {
   "cell_type": "code",
   "execution_count": 87,
   "id": "4129c692",
   "metadata": {},
   "outputs": [
    {
     "data": {
      "text/plain": [
       "array([[1292,   10],\n",
       "       [  92, 1041]], dtype=int64)"
      ]
     },
     "execution_count": 87,
     "metadata": {},
     "output_type": "execute_result"
    }
   ],
   "source": [
    "# Calculamos la matriz de confusión\n",
    "# 1.\tTenemos 2333 datos, de los cuales:\n",
    "#    i.\t1292 verdaderos positivos\n",
    "#   ii.\t1041 verdaderos negativos\n",
    "#  iii.\t92 falsos positivos\n",
    "#   iv.\t10 falsos negativos\n",
    "\n",
    "confusion_matrix(y_test,pronostico)"
   ]
  },
  {
   "cell_type": "code",
   "execution_count": 88,
   "id": "da9f11de",
   "metadata": {},
   "outputs": [
    {
     "data": {
      "text/plain": [
       "0.9335260115606936"
      ]
     },
     "execution_count": 88,
     "metadata": {},
     "output_type": "execute_result"
    }
   ],
   "source": [
    "# Calculamos la precision\n",
    "# La precisión es el resultado de la funcion: Verdaderos Positivos / (Verdaderos positivos + Falsos Positivos).\n",
    "precision = (1292)/(1292+92)\n",
    "precision"
   ]
  },
  {
   "cell_type": "code",
   "execution_count": 89,
   "id": "22a8485d",
   "metadata": {},
   "outputs": [
    {
     "data": {
      "text/plain": [
       "0.9923195084485407"
      ]
     },
     "execution_count": 89,
     "metadata": {},
     "output_type": "execute_result"
    }
   ],
   "source": [
    "# Calculamos la exhaustividad\n",
    "# La exhaustividad es el resultado de la funcion: Verdaderos Positivos / (Verdaderos positivos + Falsos Negativos)\n",
    "exhaustividad = (1292)/(1292+10)\n",
    "exhaustividad"
   ]
  },
  {
   "cell_type": "code",
   "execution_count": 90,
   "id": "f0eb559e",
   "metadata": {},
   "outputs": [
    {
     "data": {
      "text/plain": [
       "0.9620253164556961"
      ]
     },
     "execution_count": 90,
     "metadata": {},
     "output_type": "execute_result"
    }
   ],
   "source": [
    "# Calculamos el valor F\n",
    "valorF = 2*((precision*exhaustividad)/(precision+exhaustividad))\n",
    "valorF"
   ]
  },
  {
   "cell_type": "code",
   "execution_count": null,
   "id": "c5833a3a",
   "metadata": {},
   "outputs": [],
   "source": []
  }
 ],
 "metadata": {
  "kernelspec": {
   "display_name": "Python 3 (ipykernel)",
   "language": "python",
   "name": "python3"
  },
  "language_info": {
   "codemirror_mode": {
    "name": "ipython",
    "version": 3
   },
   "file_extension": ".py",
   "mimetype": "text/x-python",
   "name": "python",
   "nbconvert_exporter": "python",
   "pygments_lexer": "ipython3",
   "version": "3.9.2"
  }
 },
 "nbformat": 4,
 "nbformat_minor": 5
}
